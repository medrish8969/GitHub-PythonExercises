{
 "cells": [
  {
   "cell_type": "markdown",
   "metadata": {},
   "source": [
    "# Python Exercises - Session 2: Built-in data structures\n",
    "The exercises below are organized to match [A Whirlwind Tour of Python (VanderPlas)](https://jakevdp.github.io/WhirlwindTourOfPython/). Specific pages are referenced in the various sections. These are designed to run using Python 3.6.\n",
    "\n",
    "Follow the guidelines below. Where necessary replace the ellipses (`...`) with the appropriate code in the code blocks, the run the code by pressing ctrl-enter. Be sure to save your document before closing. "
   ]
  },
  {
   "cell_type": "markdown",
   "metadata": {},
   "source": [
    "### 2.1. Lists"
   ]
  },
  {
   "cell_type": "markdown",
   "metadata": {},
   "source": [
    "**2.1a.** Create a _list_ variable named `myRasters` containing the following 3 strings: `DEM`, `slope`, `aspect`, and then print the contents of the list."
   ]
  },
  {
   "cell_type": "code",
   "execution_count": null,
   "metadata": {},
   "outputs": [],
   "source": [
    "myRasters = [\"DEM\", \"slope\", \"aspect\"]\n",
    "print(myRasters)\n",
    "\n",
    "['DEM', 'slope', 'aspect']"
   ]
  },
  {
   "cell_type": "markdown",
   "metadata": {},
   "source": [
    "**2.1b.** Use the `len` function on the `myRasters` list object to reveal how many items on the list."
   ]
  },
  {
   "cell_type": "code",
   "execution_count": null,
   "metadata": {},
   "outputs": [],
   "source": [
    "myRasters = [\"DEM\", \"slope\", \"aspect\"]\n",
    "len(myRasters)\n",
    "\n",
    "print(len(myRasters))\n",
    "\n",
    "3"
   ]
  },
  {
   "cell_type": "markdown",
   "metadata": {},
   "source": [
    "**2.1c.** Update `myRasters` list to include a new item, the string `hillshade`, and then print the contents of the list. (*Tip: use the tab-completion feature to see all the methods associated with the `myRasters` object; just hit the tab key after the period following myRasters...*)"
   ]
  },
  {
   "cell_type": "code",
   "execution_count": null,
   "metadata": {},
   "outputs": [],
   "source": [
    "myRasters.append(\"hillshade\")\n",
    "print(myRasters)\n",
    "\n",
    "['DEM', 'slope', 'aspect', 'hillshade']"
   ]
  },
  {
   "cell_type": "markdown",
   "metadata": {},
   "source": [
    "**2.1d.** Use the `sort` function to sort the myRasters list alphabetically and print the output."
   ]
  },
  {
   "cell_type": "code",
   "execution_count": null,
   "metadata": {},
   "outputs": [],
   "source": [
    "\n",
    "myRasters = [\"DEM\", \"slope\", \"aspect\", \"hillshade\"]\n",
    "myRasters.sort()\n",
    "print(myRasters)\n",
    "\n",
    "['DEM', 'aspect', 'hillshade', 'slope']\n"
   ]
  },
  {
   "cell_type": "markdown",
   "metadata": {},
   "source": [
    "**2.1e.** Sort the myRasters list in <u>reverse</u> order and print the output, again using the sort function.  \n",
    "*Tip: place a `?` after the sort command, omitting the parentheses, to display a bit of help on the sort method...*"
   ]
  },
  {
   "cell_type": "code",
   "execution_count": null,
   "metadata": {},
   "outputs": [],
   "source": [
    "myRasters.sort(reverse=True)\n",
    "print(myRasters)\n",
    "\n",
    "\n",
    "['slope', 'hillshade', 'aspect', 'DEM']"
   ]
  },
  {
   "cell_type": "markdown",
   "metadata": {},
   "source": [
    "**2.1f.** Remove `aspect` from the `myRasters` list using the `remove` method."
   ]
  },
  {
   "cell_type": "code",
   "execution_count": null,
   "metadata": {},
   "outputs": [],
   "source": [
    "myRasters.remove(\"aspect\")\n",
    "print(myRasters)\n",
    "\n",
    "['DEM', 'slope', 'hillshade']"
   ]
  },
  {
   "cell_type": "markdown",
   "metadata": {},
   "source": [
    "**2.1g.** Use the `index` function to print the index value of the `DEM` item in the `myRasters` list."
   ]
  },
  {
   "cell_type": "code",
   "execution_count": null,
   "metadata": {},
   "outputs": [],
   "source": [
    "myRasters = [\"DEM\", \"slope\", \"hillshade\"]\n",
    "print(myRasters.index(\"DEM\"))\n",
    "\n",
    "0"
   ]
  },
  {
   "cell_type": "markdown",
   "metadata": {},
   "source": [
    "**2.1h.** Set the variable `theRaster` to the first item in the `myRasters` list and print the value of `theRaster`."
   ]
  },
  {
   "cell_type": "code",
   "execution_count": null,
   "metadata": {},
   "outputs": [],
   "source": [
    "theRaster = myRasters[0]\n",
    "print(theRaster)\n",
    "\n",
    "DEM"
   ]
  },
  {
   "cell_type": "markdown",
   "metadata": {},
   "source": [
    "**2.1i.** Print the last 2 items in the `myRasters` list"
   ]
  },
  {
   "cell_type": "code",
   "execution_count": null,
   "metadata": {},
   "outputs": [],
   "source": [
    "print(myRasters[-2:])\n",
    "\n",
    "['slope', 'hillshade']"
   ]
  },
  {
   "cell_type": "markdown",
   "metadata": {},
   "source": [
    "---\n",
    "### 2.2. Tuples"
   ]
  },
  {
   "cell_type": "markdown",
   "metadata": {},
   "source": [
    "**2.2a.** Create a tuple named `myVectors` containing the following 3 strings: `rivers`, `rails`, `streets`, and then print the contents of the tuple."
   ]
  },
  {
   "cell_type": "code",
   "execution_count": null,
   "metadata": {},
   "outputs": [],
   "source": [
    "myVectors = (\"rivers\", \"rails\", \"streets\")\n",
    "print(myVectors)\n",
    "\n",
    "\n",
    "('rivers', 'rails', 'streets')\n"
   ]
  },
  {
   "cell_type": "markdown",
   "metadata": {},
   "source": [
    "**2.2b.** Print the 3rd element in the `myVectors` tuple (i.e. \"streets\")"
   ]
  },
  {
   "cell_type": "code",
   "execution_count": null,
   "metadata": {},
   "outputs": [],
   "source": [
    "myVectors = (\"rivers\", \"rails\", \"streets\")\n",
    "\n",
    "print(myVectors[2])\n",
    "\n",
    "\n",
    "streets\n"
   ]
  },
  {
   "cell_type": "markdown",
   "metadata": {},
   "source": [
    "**2.2c.** Create a second tuple named `myOtherVectors`, holding the strings `trails` and `bike paths`."
   ]
  },
  {
   "cell_type": "code",
   "execution_count": null,
   "metadata": {},
   "outputs": [],
   "source": [
    "myOtherVectors = ('trails',\"bike paths\")\n",
    "\n",
    "print(myOtherVectors)\n",
    "\n",
    "('trails', 'bike paths')\n"
   ]
  },
  {
   "cell_type": "markdown",
   "metadata": {},
   "source": [
    "**2.2d.** Update the `myVectors` tuple so that it also included the elements in the `myOtherVectors` tuple and print the results."
   ]
  },
  {
   "cell_type": "code",
   "execution_count": null,
   "metadata": {},
   "outputs": [],
   "source": [
    "\n",
    "myVectors = (\"rivers\", \"rails\", \"streets\")\n",
    "myOtherVectors = (\"trails\", \"bike paths\")\n",
    "\n",
    "myVectors = myVectors +  myOtherVectors\n",
    "print(myVectors)\n",
    "\n",
    "\n",
    "('rivers', 'rails', 'streets', 'trails', 'bike paths')"
   ]
  },
  {
   "cell_type": "markdown",
   "metadata": {},
   "source": [
    "---\n",
    "### 2.3. Dictionaries"
   ]
  },
  {
   "cell_type": "markdown",
   "metadata": {},
   "source": [
    "**2.3a.** Run the following to generate a dictionary called `inventory`"
   ]
  },
  {
   "cell_type": "code",
   "execution_count": null,
   "metadata": {},
   "outputs": [],
   "source": [
    "inventory = {\n",
    "    'gold' : 500,\n",
    "    'pouch' : ['flint', 'twine', 'gemstone'],\n",
    "    'backpack' : ['xylophone','dagger', 'bedroll','bread loaf']\n",
    "}\n",
    "print(inventory)\n",
    "\n",
    "\n",
    "{'gold': 500, 'pouch': ['flint', 'twine', 'gemstone'], 'backpack': ['xylophone', 'dagger', 'bedroll', 'bread loaf']}"
   ]
  },
  {
   "cell_type": "markdown",
   "metadata": {},
   "source": [
    "**2.3b.** Write a line of code to print the value corresponding to the `pouch` key. "
   ]
  },
  {
   "cell_type": "code",
   "execution_count": null,
   "metadata": {},
   "outputs": [],
   "source": [
    "print(inventory[pouch])\n",
    "\n",
    "['flint', 'twine', 'gemstone']"
   ]
  },
  {
   "cell_type": "markdown",
   "metadata": {},
   "source": [
    "**2.3c.** Add a new item to the dictionary. Set it's **key** to `clothes` and it's **value** to a list containing these three items: `hat`,`tunic`,`boots`"
   ]
  },
  {
   "cell_type": "code",
   "execution_count": null,
   "metadata": {},
   "outputs": [],
   "source": [
    "inventory['clothes'] = ['hat', 'tunic', 'boots']\n",
    "\n",
    "print(inventory)\n",
    "\n",
    "\n",
    "{\n",
    "  'gold': 500,\n",
    "  'pouch': ['flint', 'twine', 'gemstone'],\n",
    "  'backpack': ['xylophone', 'dagger', 'bedroll', 'bread loaf'],\n",
    "  'clothes': ['hat', 'tunic', 'boots']\n",
    "}"
   ]
  },
  {
   "cell_type": "markdown",
   "metadata": {},
   "source": [
    "**2.3d.** Print all the _keys_ in the `inventory` dictionary"
   ]
  },
  {
   "cell_type": "code",
   "execution_count": null,
   "metadata": {},
   "outputs": [],
   "source": [
    "print(inventory.keys())\n",
    "\n",
    "dict_keys(['gold', 'pouch', 'backpack', 'clothes'])\n"
   ]
  },
  {
   "cell_type": "markdown",
   "metadata": {},
   "source": [
    "**2.3e.** Print all the _values_ in the `inventory` dictionary"
   ]
  },
  {
   "cell_type": "code",
   "execution_count": null,
   "metadata": {},
   "outputs": [],
   "source": [
    "print(inventory. values())\n",
    "\n",
    "dict_values([500, ['flint', 'twine', 'gemstone'], ['xylophone', 'dagger', 'bedroll', 'bread loaf'], ['hat', 'tunic', 'boots']])"
   ]
  },
  {
   "cell_type": "markdown",
   "metadata": {},
   "source": [
    "**2.3f.** [Challenge!] Extract all the _items_ in the `inventory` dictionary to a new variable named \"`the_items`\". Reveal what type of object this variable is."
   ]
  },
  {
   "cell_type": "code",
   "execution_count": null,
   "metadata": {},
   "outputs": [],
   "source": [
    "the_items = inventory.items()\n",
    "\n",
    "print(the_items)\n",
    "print(type(the_items))\n",
    "\n",
    "dict_items([('gold', 500), ('pouch', ['flint', 'twine', 'gemstone']), ('backpack', ['xylophone', 'dagger', 'bedroll', 'bread loaf']), ('clothes', ['hat', 'tunic', 'boots'])])\n",
    "<class 'dict_items'>\n"
   ]
  },
  {
   "cell_type": "markdown",
   "metadata": {},
   "source": [
    "**2.3g.** [Challenge, part 2] Re-cast the `the_items` object into a _list_ object named \"`the_items_list`\", and print the third item in this list. "
   ]
  },
  {
   "cell_type": "code",
   "execution_count": null,
   "metadata": {},
   "outputs": [],
   "source": [
    "the_items_list = list(the_items)\n",
    "print(the_items_list[2])\n",
    "\n",
    "('backpack', ['xylophone', 'dagger', 'bedroll', 'bread loaf'])"
   ]
  },
  {
   "cell_type": "markdown",
   "metadata": {},
   "source": [
    "---\n",
    "### 2.4. Sets"
   ]
  },
  {
   "cell_type": "markdown",
   "metadata": {
    "collapsed": true
   },
   "source": [
    "**2.4a.** Create a set variable named `redFruit` with members `strawberry`, `apple`, `plum`, and `raspberry`. Then, print the set. "
   ]
  },
  {
   "cell_type": "code",
   "execution_count": null,
   "metadata": {},
   "outputs": [],
   "source": [
    "redFruit = {\"strawberry\", \"apple\", \"plum\", \"raspberry\"}\n",
    "print(redFruit)\n",
    "\n",
    "\n",
    "{'plum', 'raspberry', 'apple', 'strawberry'}"
   ]
  },
  {
   "cell_type": "markdown",
   "metadata": {},
   "source": [
    "**2.4b.** Add `tomato` to the `redFruit` list, and print the set's contents."
   ]
  },
  {
   "cell_type": "code",
   "execution_count": null,
   "metadata": {},
   "outputs": [],
   "source": [
    "redFruit.add(tomato)\n",
    "print(redFruit)\n",
    "\n",
    "{'plum', 'tomato', 'apple', 'strawberry', 'raspberry'}"
   ]
  },
  {
   "cell_type": "markdown",
   "metadata": {},
   "source": [
    "**2.4c.** Add another instance of `tomato` to the set and print its contents."
   ]
  },
  {
   "cell_type": "code",
   "execution_count": null,
   "metadata": {},
   "outputs": [],
   "source": [
    "redFruit.add(tomato)\n",
    "print(redFruit)\n",
    "\n",
    "{'plum', 'tomato', 'apple', 'strawberry', 'raspberry'}"
   ]
  },
  {
   "cell_type": "markdown",
   "metadata": {},
   "source": [
    "**2.4d.** Create a set called `pittedFruit` with members `peach`, `plum`, `nectarine`, and `avocado`."
   ]
  },
  {
   "cell_type": "code",
   "execution_count": null,
   "metadata": {},
   "outputs": [],
   "source": [
    "pittedFruit = {\"peach\", \"plum\", \"nectarine\", \"avocado\"}\n",
    "print(pittedFruit)\n",
    "\n",
    "{'peach', 'avocado', 'nectarine', 'plum'}"
   ]
  },
  {
   "cell_type": "markdown",
   "metadata": {},
   "source": [
    "**2.4e.** Print the *intersection* of the `redFruit` and `pittedFruit` sets."
   ]
  },
  {
   "cell_type": "code",
   "execution_count": null,
   "metadata": {},
   "outputs": [],
   "source": [
    "print((redFruit.intersection(pittedFruit)))"
   ]
  },
  {
   "cell_type": "markdown",
   "metadata": {},
   "source": [
    "**2.4f.** Print the *symmetric difference* of the two sets"
   ]
  },
  {
   "cell_type": "code",
   "execution_count": null,
   "metadata": {},
   "outputs": [],
   "source": [
    "print(redFruit. symmetric_difference(pittedFruit))\n",
    "\n",
    "{'peach', 'nectarine', 'tomato', 'apple', 'raspberry', 'avocado', 'strawberry'}\n"
   ]
  },
  {
   "cell_type": "markdown",
   "metadata": {},
   "source": [
    "---\n",
    "### 2.5 More on Strings"
   ]
  },
  {
   "cell_type": "markdown",
   "metadata": {},
   "source": [
    "**2.5a.** Use combinations of `'` and `\"` along with Python escaping character (\"`\\`\") to print the following:<br>\n",
    " `This is a Python string`<br>\n",
    " `This is John's Python string`<br>\n",
    " `This is a string that says \"Hey!\"`<br>\n",
    " `This is John's Python string that says \"Hey!\"`<br>"
   ]
  },
  {
   "cell_type": "code",
   "execution_count": null,
   "metadata": {},
   "outputs": [],
   "source": [
    "print(\"This is a Python string\")\n",
    "print(\"This is John's Python string\")\n",
    "print('This is a string that says \"Hey!\"')\n",
    "print(\"This is John's Python string that says \\\"Hey!\\\"\")"
   ]
  },
  {
   "cell_type": "markdown",
   "metadata": {},
   "source": [
    "**2.5b.** Insert the Python escaping character (\"`\\`\") followed by `n`, `t`, or `r` in the string below. What do these do when the string is printed?"
   ]
  },
  {
   "cell_type": "code",
   "execution_count": null,
   "metadata": {},
   "outputs": [],
   "source": [
    "\n",
    "print(\"Show\\nme\\nwhat\\nPython's\\nescaping\\ncharacter\\ndoes.\")\n",
    "print(\"Show\\tme\\twhat\\tPython's\\tescaping\\tcharacter\\tdoes.\")\n",
    "print(\"Show\\rme\\rwhat\\rPython's\\rescaping\\rcharacter\\rdoes.\")\n"
   ]
  },
  {
   "cell_type": "markdown",
   "metadata": {},
   "source": [
    "**2.5c.** Use string formatting to insert the variables `city` and `population` into a statement that prints:<br>\n",
    "```\n",
    "The city of Manhattan has a population of 55000 people.\n",
    "```"
   ]
  },
  {
   "cell_type": "code",
   "execution_count": null,
   "metadata": {},
   "outputs": [],
   "source": [
    "city = \"Manhattan\"\n",
    "population = 55000\n",
    "\n",
    "print(f\"The city of {city} has a population of {population} people.\")\n",
    "\n",
    "The city of Manhattan has a population of 55000 people."
   ]
  },
  {
   "cell_type": "markdown",
   "metadata": {},
   "source": [
    "**2.5d** Repeat the task above, but extract values of the list to report Wichita's population. Bonus points if you can fix the capitalization so the city name is not in all capitals..."
   ]
  },
  {
   "cell_type": "code",
   "execution_count": null,
   "metadata": {},
   "outputs": [],
   "source": [
    "cities = ('MANHATTAN','WICHITA','HAYS', 'SALINA')\n",
    "populations = (55000, 396000, 21000, 46500)\n",
    "\n",
    "city = cities[1].capitalize() \n",
    "population = populations[1]\n",
    "\n",
    "print(f\"The city of {city} has a population of {population} people.\")\n",
    "\n",
    "\n",
    "The city of Wichita has a population of 396000 people."
   ]
  },
  {
   "cell_type": "code",
   "execution_count": null,
   "metadata": {},
   "outputs": [],
   "source": []
  }
 ],
 "metadata": {
  "kernelspec": {
   "display_name": "Python 3 (ipykernel)",
   "language": "python",
   "name": "python3"
  },
  "language_info": {
   "codemirror_mode": {
    "name": "ipython",
    "version": 3
   },
   "file_extension": ".py",
   "mimetype": "text/x-python",
   "name": "python",
   "nbconvert_exporter": "python",
   "pygments_lexer": "ipython3",
   "version": "3.9.16"
  }
 },
 "nbformat": 4,
 "nbformat_minor": 2
}
