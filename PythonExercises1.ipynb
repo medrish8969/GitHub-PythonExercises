{
 "cells": [
  {
   "cell_type": "markdown",
   "metadata": {},
   "source": [
    "### Python Exercises\n",
    "The exercises below are organized to match the book [A Whirlwind Tour of Python](https://jakevdp.github.io/WhirlwindTourOfPython/). Specific pages of the online text are referenced in the various sections. These are designed to run using Python 3.x.\n",
    "\n",
    "Follow the guidelines below. Where necessary replace the ellipses <code>(...)</code> with the appropriate code in the code blocks, the run the code by pressing <code>ctrl-enter</code>. **Be sure to save your document before closing.** "
   ]
  },
  {
   "cell_type": "markdown",
   "metadata": {},
   "source": [
    "### 1. A Quick Tour of Python Language Syntax  ([pp 7 - 13](http://nbviewer.jupyter.org/github/env859/WhirlwindTourOfPython/blob/master/02-Basic-Python-Syntax.ipynb))\n",
    "* Comments\n",
    "* End of line (or semicolon) terminates a statement\n",
    "* Whitespace in front of a statement (indentation) vs. within a statement\n",
    "* Parentheses in Python"
   ]
  },
  {
   "cell_type": "markdown",
   "metadata": {},
   "source": [
    "**1a.** Modify the code below so the first line is not run. Also change it so that the text \"height in cm\" is ignored by Python (i.e. \"commented out\") [hint](https://nbviewer.jupyter.org/github/env859/WhirlwindTourOfPython/blob/master/02-Basic-Python-Syntax.ipynb#Comments-Are-Marked-by-#)"
   ]
  },
  {
   "cell_type": "code",
   "execution_count": null,
   "metadata": {},
   "outputs": [],
   "source": [
    "#This line assigns the age and height of the student\n",
    "studentAge = 25\n",
    "studentHeight = 180 #height in cm"
   ]
  },
  {
   "cell_type": "markdown",
   "metadata": {},
   "source": [
    "**1b.** Modify the code below so that it is written on two lines, splitting the two lines somewhere between \"`4000 + 5000`\" . [hint](https://nbviewer.jupyter.org/github/env859/WhirlwindTourOfPython/blob/master/02-Basic-Python-Syntax.ipynb#End-of-Line-Terminates-a-Statement)"
   ]
  },
  {
   "cell_type": "code",
   "execution_count": null,
   "metadata": {},
   "outputs": [],
   "source": [
    "totalScore = 1000 + 2000 + 3000 + 4000 + \\\n",
    "    5000 + 6000 + 7000 + 8000"
   ]
  },
  {
   "cell_type": "markdown",
   "metadata": {},
   "source": [
    "**1c.** Modify the code below so that both commands occur on the same line. [hint](https://nbviewer.jupyter.org/github/env859/WhirlwindTourOfPython/blob/master/02-Basic-Python-Syntax.ipynb#End-of-Line-Terminates-a-Statement)"
   ]
  },
  {
   "cell_type": "code",
   "execution_count": null,
   "metadata": {},
   "outputs": [],
   "source": [
    "stateName = \"Kansas\"; stateCapital = \"Topeka\""
   ]
  },
  {
   "cell_type": "markdown",
   "metadata": {},
   "source": [
    "**1d.** Make the fewest edits possible so the code below so it runs without error.[hint](https://nbviewer.jupyter.org/github/env859/WhirlwindTourOfPython/blob/master/02-Basic-Python-Syntax.ipynb#Indentation:-Whitespace-Matters!)"
   ]
  },
  {
   "cell_type": "code",
   "execution_count": null,
   "metadata": {},
   "outputs": [],
   "source": [
    "for i in [1,2,3,4,5]:\n",
    "print (i * 2)"
   ]
  },
  {
   "cell_type": "markdown",
   "metadata": {},
   "source": [
    "**1e.** Add parentheses so that the code below prints `14` (not `11`)."
   ]
  },
  {
   "cell_type": "code",
   "execution_count": null,
   "metadata": {},
   "outputs": [],
   "source": [
    "treeCarbon = (3 + 4) * 2\n",
    "print(treeCarbon)"
   ]
  },
  {
   "cell_type": "markdown",
   "metadata": {},
   "source": [
    "---\n",
    "\n",
    "### 2. Basic Python Sematics: Variables & Objects ([pp 13 - 14](http://nbviewer.jupyter.org/github/env859/WhirlwindTourOfPython/blob/master/03-Semantics-Variables.ipynb))\n",
    "* Python variables are pointers\n",
    " * Immutable vs mutable objects \n",
    "* Everything is an object"
   ]
  },
  {
   "cell_type": "markdown",
   "metadata": {},
   "source": [
    "**2a**. In the code block below:<br>\n",
    " \\* Assign the variable name `x` to the immutable number 11<br>\n",
    " \\* Assign the variable name `y` equal to `x`<br>\n",
    " \\* Re-assign `x` to the immutable string \"Kansas State University\"<br>\n",
    " \\* Print the value of `y`: **Did it change with `x`?** <br>"
   ]
  },
  {
   "cell_type": "code",
   "execution_count": null,
   "metadata": {},
   "outputs": [],
   "source": [
    "x = 11\n",
    "y = x\n",
    "x = \"Kansas State University\"\n",
    "print (y)\n",
    "\n",
    "11"
   ]
  },
  {
   "cell_type": "markdown",
   "metadata": {},
   "source": [
    "**2b.** In the code block below:<br>\n",
    " \\* Assign `x` to the mutable list [\"apple\",\"banana\",\"cherry\"]<br>\n",
    " \\* Assign `y` equal to `x`<br>\n",
    " \\* Update `x` to include \"durian\"<br>\n",
    " \\* Print the value of `y`: **Did it change with `x`?** <br>"
   ]
  },
  {
   "cell_type": "code",
   "execution_count": null,
   "metadata": {},
   "outputs": [],
   "source": [
    "x = [\"apple\",\"banana\",\"cherry\"]\n",
    "y = x\n",
    "x.append(\"durian\")\n",
    "print(y)\n",
    "\n",
    "[\"apple\", \"banana\", \"cherry\", \"durian\"]"
   ]
  },
  {
   "cell_type": "markdown",
   "metadata": {},
   "source": [
    "**2c.** In the code block below:<br>\n",
    "\\* Make the first line a comment<br>\n",
    "\\* Set the variable `monty` equal to `True`<br>\n",
    "\\* Set another variable `python` equal to `1.234`<br>\n",
    "\\* Set a third variable `monty_python` equal to `python` squared<br>\n",
    "\\* print the value of `monty_python`<br>"
   ]
  },
  {
   "cell_type": "code",
   "execution_count": null,
   "metadata": {},
   "outputs": [],
   "source": [
    "...Exercise 2c\n",
    "monty = True\n",
    "python = 1.234\n",
    "monty_python = python ** 2\n",
    "print(monty_python) \n",
    "\n",
    "1.522756 "
   ]
  },
  {
   "cell_type": "markdown",
   "metadata": {},
   "source": [
    "---\n",
    "### 3. Basic Python Semantics: Operators ([pp 14 - 24](http://nbviewer.jupyter.org/github/env859/WhirlwindTourOfPython/blob/master/04-Semantics-Operators.ipynb))\n",
    "* Arithmetic operations<br>\n",
    "* <s>Bitwise operations</s><br>\n",
    "* Assignment operations<br>\n",
    "* Comparison operations<br>\n",
    "* Boolean operations<br>\n",
    "* Identity & membership operations<br>"
   ]
  },
  {
   "cell_type": "markdown",
   "metadata": {},
   "source": [
    "**3a.** Write a line of code to convert degrees 31°C to Fahrenheit:\n",
    "   `T(°F) = T(°C) × 9/5 + 32`<br>*(The correct answer is 87.8)*"
   ]
  },
  {
   "cell_type": "code",
   "execution_count": null,
   "metadata": {},
   "outputs": [],
   "source": [
    "degC = 31\n",
    "degF = degC * 9/5 + 32\n",
    "print (degF) \n",
    "\n",
    "87.8"
   ]
  },
  {
   "cell_type": "markdown",
   "metadata": {},
   "source": [
    "**3b.** Use _assignment operations_ ([link](https://nbviewer.jupyter.org/github/env859/WhirlwindTourOfPython/blob/master/04-Semantics-Operators.ipynb#Assignment-Operations)) to re-write lines 2 and 3 below more compactly:<br>"
   ]
  },
  {
   "cell_type": "code",
   "execution_count": null,
   "metadata": {},
   "outputs": [],
   "source": [
    "a = 1; b = 3\n",
    "a += 1\n",
    "b ** = 2\n",
    "print (a, b)  \n",
    "\n",
    "2 9"
   ]
  },
  {
   "cell_type": "markdown",
   "metadata": {},
   "source": [
    "**3c.** After setting `a` equal to 10 and `b` equal to 17, use the proper [Comparison operators](https://nbviewer.jupyter.org/github/env859/WhirlwindTourOfPython/blob/master/04-Semantics-Operators.ipynb#Comparison-Operations) to code the statements below..."
   ]
  },
  {
   "cell_type": "code",
   "execution_count": null,
   "metadata": {},
   "outputs": [],
   "source": [
    "a = 10\n",
    "b = 17\n",
    "\n",
    "\n",
    "False\n",
    "True\n",
    "True\n",
    "False\n",
    "True\n",
    "False"
   ]
  },
  {
   "cell_type": "code",
   "execution_count": null,
   "metadata": {},
   "outputs": [],
   "source": [
    "#print whether a is greater than b\n",
    "print(a > b)\n",
    "\n",
    "False"
   ]
  },
  {
   "cell_type": "code",
   "execution_count": null,
   "metadata": {},
   "outputs": [],
   "source": [
    "#print whether a is between 5 and 11\n",
    "print(5 < a < 11)    "
   ]
  },
  {
   "cell_type": "code",
   "execution_count": null,
   "metadata": {},
   "outputs": [],
   "source": [
    "#print whether b minus a is equal to 7\n",
    "print(b - a == 7)\n",
    "\n",
    "True"
   ]
  },
  {
   "cell_type": "code",
   "execution_count": null,
   "metadata": {},
   "outputs": [],
   "source": [
    "#print whether b minus a is NOT equal to 7\n",
    "print(b - a != 7)\n",
    "\n",
    "False"
   ]
  },
  {
   "cell_type": "code",
   "execution_count": null,
   "metadata": {},
   "outputs": [],
   "source": [
    "#print whether b minus a is less than or equal to 6\n",
    "print(b - a <= 6)\n",
    "\n",
    "False"
   ]
  },
  {
   "cell_type": "code",
   "execution_count": null,
   "metadata": {},
   "outputs": [],
   "source": [
    "#print whether 0.1 plus 0.2 is equal to 0.3 - Note: you might not get what you expect\n",
    "print(0.1 + 0.2 == 0.3)\n",
    "\n",
    "False"
   ]
  },
  {
   "cell_type": "code",
   "execution_count": null,
   "metadata": {},
   "outputs": [],
   "source": [
    "#Regarding the above, try this:\n",
    "0.1 + 0.2\n",
    "\n",
    "0.3"
   ]
  },
  {
   "cell_type": "markdown",
   "metadata": {},
   "source": [
    "For an explanation of the last two cells, see:\n",
    "* http://nbviewer.jupyter.org/github/env859/WhirlwindTourOfPython/blob/master/05-Built-in-Scalar-Types.ipynb#Aside:-Floating-point-precision or \n",
    "* https://docs.python.org/3/tutorial/floatingpoint.html"
   ]
  },
  {
   "cell_type": "markdown",
   "metadata": {},
   "source": [
    "---\n",
    "### 4. Built-In Types: Simple Values/Scalars ([pp 24 - 29](http://nbviewer.jupyter.org/github/env859/WhirlwindTourOfPython/blob/master/05-Built-in-Scalar-Types.ipynb))\n",
    "* Integers\n",
    "* Floating-points numbers\n",
    "* <s>Complex numbers</s>\n",
    "* Strings\n",
    "* \"None\"\n",
    "* Booleans"
   ]
  },
  {
   "cell_type": "markdown",
   "metadata": {},
   "source": [
    "#### [Integers](https://nbviewer.jupyter.org/github/env859/WhirlwindTourOfPython/blob/master/05-Built-in-Scalar-Types.ipynb#Integers) and [Floating point numbers](https://nbviewer.jupyter.org/github/env859/WhirlwindTourOfPython/blob/master/05-Built-in-Scalar-Types.ipynb#Floating-Point-Numbers)"
   ]
  },
  {
   "cell_type": "markdown",
   "metadata": {},
   "source": [
    "**4a.** Set `x` equal to the *integer* value 6"
   ]
  },
  {
   "cell_type": "code",
   "execution_count": null,
   "metadata": {},
   "outputs": [],
   "source": [
    "x = 6\n",
    "type(x)\n",
    "print(type(x))\n",
    "class 'int'\n"
   ]
  },
  {
   "cell_type": "markdown",
   "metadata": {},
   "source": [
    "**4b.** Set `y` equal to the *floating point* value 2"
   ]
  },
  {
   "cell_type": "code",
   "execution_count": null,
   "metadata": {},
   "outputs": [],
   "source": [
    "y = 2.0\n",
    "print (type(y))\n",
    "\n",
    "class 'float'"
   ]
  },
  {
   "cell_type": "markdown",
   "metadata": {},
   "source": [
    "**4c.** Set `z` to be `x` divided by `y`. Is `z` an integer or floating point object?"
   ]
  },
  {
   "cell_type": "code",
   "execution_count": null,
   "metadata": {},
   "outputs": [],
   "source": [
    "x = 6\n",
    "y = 2.0\n",
    "z = x/y\n",
    "print(z)\n",
    "print(type(z))\n",
    "\n",
    "3.0\n",
    "<class 'float'>\n"
   ]
  },
  {
   "cell_type": "markdown",
   "metadata": {},
   "source": [
    "→ Is the above the same if `y` is an integer? What if, instead of dividing, we used the floor-division operator `(z = x // 4)`? \n",
    "\n",
    "\n"
   ]
  },
  {
   "cell_type": "code",
   "execution_count": null,
   "metadata": {},
   "outputs": [],
   "source": [
    "x = 6\n",
    "y = 2   # integer\n",
    "\n",
    "z = x / y\n",
    "print(z, type(z))\n",
    "\n",
    "3.0 <class 'float'>\n",
    "\n",
    "x = 6\n",
    "z = x // 4\n",
    "print(z, type(z))\n",
    "\n",
    "1 <class 'int'>"
   ]
  },
  {
   "cell_type": "markdown",
   "metadata": {},
   "source": [
    "#### [Strings](https://nbviewer.jupyter.org/github/env859/WhirlwindTourOfPython/blob/master/05-Built-in-Scalar-Types.ipynb#String-Type)...\n",
    "**4d.** Create the following string variables, setting values as such:<br>\n",
    "\\*  `player` -> `Deuce Vaughn`<br>\n",
    "\\*  `number` -> `22`<br>\n",
    "\\*  `position` -> `Running back`<br>\n",
    "\\*  `team` -> `Kansas State University`<br>"
   ]
  },
  {
   "cell_type": "code",
   "execution_count": null,
   "metadata": {},
   "outputs": [],
   "source": [
    "player = \"Deuce Vaughn\"\n",
    "number = \"22\"\n",
    "position = \"Running back\"\n",
    "team = \"Kansas State University\""
   ]
  },
  {
   "cell_type": "markdown",
   "metadata": {},
   "source": [
    "**4e.** Show the `type` of the number variable. Then re-cast it into a string object."
   ]
  },
  {
   "cell_type": "code",
   "execution_count": null,
   "metadata": {},
   "outputs": [],
   "source": [
    "number = 22\n",
    "print(type(number))\n",
    "number = str(number)\n",
    "print(type(number))\n",
    "\n",
    "class 'int'\n",
    "class 'str'"
   ]
  },
  {
   "cell_type": "markdown",
   "metadata": {},
   "source": [
    "**4f.** If the number variable is an integer, re-cast it into a string object."
   ]
  },
  {
   "cell_type": "code",
   "execution_count": null,
   "metadata": {},
   "outputs": [],
   "source": [
    "number = 22\n",
    "number = str(number)\n",
    "print(number)\n",
    "print(type(number))\n",
    "      \n",
    "22\n",
    "class 'str'"
   ]
  },
  {
   "cell_type": "markdown",
   "metadata": {},
   "source": [
    "**4g.** Combine (or \"*concatenate*\") the `position`, `player`, `number`, and `team` variables along with other text to print out:<br> `Running back Deuce Vaughn wore jersey number 22 and played for Kansas State University.`"
   ]
  },
  {
   "cell_type": "code",
   "execution_count": null,
   "metadata": {},
   "outputs": [],
   "source": [
    "position = \"Running back\"\n",
    "player = \"Deuce Vaughn\"\n",
    "number = \"22\"\n",
    "team = \"Kansas State University\"\n",
    "print (position + ' ' + player + ' wore jersey number ' + number + ' and played for ' + team)"
   ]
  }
 ],
 "metadata": {
  "kernelspec": {
   "display_name": "Python 3",
   "language": "python",
   "name": "python3"
  },
  "language_info": {
   "codemirror_mode": {
    "name": "ipython",
    "version": 3
   },
   "file_extension": ".py",
   "mimetype": "text/x-python",
   "name": "python",
   "nbconvert_exporter": "python",
   "pygments_lexer": "ipython3",
   "version": "3.13.2"
  }
 },
 "nbformat": 4,
 "nbformat_minor": 2
}
